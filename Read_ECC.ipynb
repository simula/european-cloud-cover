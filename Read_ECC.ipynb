{
 "cells": [
  {
   "cell_type": "markdown",
   "metadata": {},
   "source": [
    "## Download the data \n",
    "Go to https://datasets.simula.no/ecc-dataset/ and download the dataset as zip-file. Use the following command to create a empty directory at the same level as you cloned ECC. \n",
    "```bash\n",
    "mkdir ECC_DATA\n",
    "``` \n",
    "Extract the data here. The resulting filestructure is as folllow\n",
    "```bash\n",
    "├── projectfolder\n",
    "│   ├── ECC\n",
    "│   │   └── Read_ECC.ipynb\n",
    "│   │   └── utils.py\n",
    "│   │   └── README.md\n",
    "│   │   └── environment.yml\n",
    "│   └── ECC_DATA\n",
    "│       └── data\n",
    "\n",
    "```"
   ]
  },
  {
   "cell_type": "markdown",
   "metadata": {},
   "source": [
    "# European Cloud Cover (ECC)"
   ]
  },
  {
   "cell_type": "code",
   "execution_count": 2,
   "metadata": {},
   "outputs": [
    {
     "name": "stdout",
     "output_type": "stream",
     "text": [
      "2012_11_tcc.nc  \u001b[0m\u001b[01;31mECC.zip\u001b[0m  \u001b[01;34mExamples\u001b[0m/  \u001b[01;34mGRB2012_10\u001b[0m/  \u001b[01;34mNC2012_10\u001b[0m/  \u001b[01;34muio\u001b[0m/\n"
     ]
    }
   ],
   "source": [
    "ls ../ECC_DATA"
   ]
  },
  {
   "cell_type": "code",
   "execution_count": 3,
   "metadata": {},
   "outputs": [],
   "source": [
    "store_dataset_path = '../ECC_DATA/'  # Change this if you have stored the data somewhere else"
   ]
  },
  {
   "cell_type": "markdown",
   "metadata": {},
   "source": [
    "# Do you experience problems executing this notebook? \n",
    "Please install the project enviornment, following the description in `README.md` also displayed on the front page of the Github repo (https://github.com/hannasv/ECC). "
   ]
  },
  {
   "cell_type": "code",
   "execution_count": 4,
   "metadata": {},
   "outputs": [
    {
     "name": "stdout",
     "output_type": "stream",
     "text": [
      "Help on function read_ecc_to_dataframe in module utils:\n",
      "\n",
      "read_ecc_to_dataframe(path_input, start='2012-01-01', stop='2012-01-31', include_start=True, include_stop=True)\n",
      "    Parameteres\n",
      "    ----------------------\n",
      "    path_input : None\n",
      "        sets path to input\n",
      "    start : str\n",
      "        Start of period. First day included. (default '2012-01-01')\n",
      "    stop : str\n",
      "        end of period. Last day included. (default '2012-01-31')\n",
      "    include_start : bool (True)\n",
      "        Bool to decide whether to include the start time in the list of files.\n",
      "    include_stop : bool (True)\n",
      "        Bool to decide whether to include the stop time in the list of files.\n",
      "    \n",
      "    Returns\n",
      "    -----------\n",
      "    df : pd.DataFrame\n",
      "        Data in DataFrame\n",
      "\n"
     ]
    }
   ],
   "source": [
    "from utils import read_ecc_to_dataframe\n",
    "help(read_ecc_to_dataframe)"
   ]
  },
  {
   "cell_type": "markdown",
   "metadata": {},
   "source": [
    "# Data is available from 2004-04-01 to 2018-12-31"
   ]
  },
  {
   "cell_type": "code",
   "execution_count": 5,
   "metadata": {},
   "outputs": [],
   "source": [
    "read_dataset_path = store_dataset_path+'uio/lagringshotell/geofag/projects/miphclac/ECC/' # make robust"
   ]
  },
  {
   "cell_type": "code",
   "execution_count": 6,
   "metadata": {},
   "outputs": [
    {
     "name": "stdout",
     "output_type": "stream",
     "text": [
      "\n",
      " Searching in directory ../ECC_DATA/uio/lagringshotell/geofag/projects/miphclac/ECC/ \n",
      "\n",
      "Merging 5 files  ... This may take a while.\n"
     ]
    }
   ],
   "source": [
    "df = read_ecc_to_dataframe(path_input=read_dataset_path, start = '2012-10-01',\n",
    "            stop = '2012-10-31', include_start = True, include_stop = True)"
   ]
  },
  {
   "cell_type": "markdown",
   "metadata": {},
   "source": [
    "# ECC - October 2012"
   ]
  },
  {
   "cell_type": "code",
   "execution_count": 7,
   "metadata": {},
   "outputs": [
    {
     "data": {
      "text/html": [
       "<div>\n",
       "<style scoped>\n",
       "    .dataframe tbody tr th:only-of-type {\n",
       "        vertical-align: middle;\n",
       "    }\n",
       "\n",
       "    .dataframe tbody tr th {\n",
       "        vertical-align: top;\n",
       "    }\n",
       "\n",
       "    .dataframe thead th {\n",
       "        text-align: right;\n",
       "    }\n",
       "</style>\n",
       "<table border=\"1\" class=\"dataframe\">\n",
       "  <thead>\n",
       "    <tr style=\"text-align: right;\">\n",
       "      <th></th>\n",
       "      <th></th>\n",
       "      <th></th>\n",
       "      <th>tcc</th>\n",
       "      <th>nr_nans</th>\n",
       "      <th>number</th>\n",
       "      <th>step</th>\n",
       "      <th>isobaricInhPa</th>\n",
       "      <th>valid_time</th>\n",
       "      <th>q</th>\n",
       "      <th>r</th>\n",
       "      <th>surface</th>\n",
       "      <th>sp</th>\n",
       "      <th>t2m</th>\n",
       "    </tr>\n",
       "    <tr>\n",
       "      <th>latitude</th>\n",
       "      <th>longitude</th>\n",
       "      <th>time</th>\n",
       "      <th></th>\n",
       "      <th></th>\n",
       "      <th></th>\n",
       "      <th></th>\n",
       "      <th></th>\n",
       "      <th></th>\n",
       "      <th></th>\n",
       "      <th></th>\n",
       "      <th></th>\n",
       "      <th></th>\n",
       "      <th></th>\n",
       "    </tr>\n",
       "  </thead>\n",
       "  <tbody>\n",
       "    <tr>\n",
       "      <th rowspan=\"5\" valign=\"top\">30.0</th>\n",
       "      <th rowspan=\"5\" valign=\"top\">-15.0</th>\n",
       "      <th>2012-10-01 00:00:00</th>\n",
       "      <td>0.000000</td>\n",
       "      <td>0.0</td>\n",
       "      <td>0</td>\n",
       "      <td>0 days</td>\n",
       "      <td>1000</td>\n",
       "      <td>2012-10-01 00:00:00</td>\n",
       "      <td>0.008644</td>\n",
       "      <td>56.684490</td>\n",
       "      <td>0</td>\n",
       "      <td>102086.3750</td>\n",
       "      <td>295.789551</td>\n",
       "    </tr>\n",
       "    <tr>\n",
       "      <th>2012-10-01 01:00:00</th>\n",
       "      <td>0.000000</td>\n",
       "      <td>0.0</td>\n",
       "      <td>0</td>\n",
       "      <td>0 days</td>\n",
       "      <td>1000</td>\n",
       "      <td>2012-10-01 01:00:00</td>\n",
       "      <td>0.008484</td>\n",
       "      <td>55.728996</td>\n",
       "      <td>0</td>\n",
       "      <td>102042.6875</td>\n",
       "      <td>295.666504</td>\n",
       "    </tr>\n",
       "    <tr>\n",
       "      <th>2012-10-01 02:00:00</th>\n",
       "      <td>0.125259</td>\n",
       "      <td>0.0</td>\n",
       "      <td>0</td>\n",
       "      <td>0 days</td>\n",
       "      <td>1000</td>\n",
       "      <td>2012-10-01 02:00:00</td>\n",
       "      <td>0.008302</td>\n",
       "      <td>54.818211</td>\n",
       "      <td>0</td>\n",
       "      <td>101981.7500</td>\n",
       "      <td>295.635986</td>\n",
       "    </tr>\n",
       "    <tr>\n",
       "      <th>2012-10-01 03:00:00</th>\n",
       "      <td>0.333314</td>\n",
       "      <td>0.0</td>\n",
       "      <td>0</td>\n",
       "      <td>0 days</td>\n",
       "      <td>1000</td>\n",
       "      <td>2012-10-01 03:00:00</td>\n",
       "      <td>0.008228</td>\n",
       "      <td>53.150269</td>\n",
       "      <td>0</td>\n",
       "      <td>101924.8750</td>\n",
       "      <td>295.770264</td>\n",
       "    </tr>\n",
       "    <tr>\n",
       "      <th>2012-10-01 04:00:00</th>\n",
       "      <td>0.539331</td>\n",
       "      <td>0.0</td>\n",
       "      <td>0</td>\n",
       "      <td>0 days</td>\n",
       "      <td>1000</td>\n",
       "      <td>2012-10-01 04:00:00</td>\n",
       "      <td>0.008069</td>\n",
       "      <td>50.865860</td>\n",
       "      <td>0</td>\n",
       "      <td>101901.3125</td>\n",
       "      <td>296.014893</td>\n",
       "    </tr>\n",
       "    <tr>\n",
       "      <th>...</th>\n",
       "      <th>...</th>\n",
       "      <th>...</th>\n",
       "      <td>...</td>\n",
       "      <td>...</td>\n",
       "      <td>...</td>\n",
       "      <td>...</td>\n",
       "      <td>...</td>\n",
       "      <td>...</td>\n",
       "      <td>...</td>\n",
       "      <td>...</td>\n",
       "      <td>...</td>\n",
       "      <td>...</td>\n",
       "      <td>...</td>\n",
       "    </tr>\n",
       "    <tr>\n",
       "      <th rowspan=\"5\" valign=\"top\">50.0</th>\n",
       "      <th rowspan=\"5\" valign=\"top\">25.0</th>\n",
       "      <th>2012-10-31 19:00:00</th>\n",
       "      <td>0.000000</td>\n",
       "      <td>0.0</td>\n",
       "      <td>0</td>\n",
       "      <td>0 days</td>\n",
       "      <td>1000</td>\n",
       "      <td>2012-10-31 19:00:00</td>\n",
       "      <td>0.003783</td>\n",
       "      <td>81.039139</td>\n",
       "      <td>0</td>\n",
       "      <td>98350.2500</td>\n",
       "      <td>275.062988</td>\n",
       "    </tr>\n",
       "    <tr>\n",
       "      <th>2012-10-31 20:00:00</th>\n",
       "      <td>0.000000</td>\n",
       "      <td>0.0</td>\n",
       "      <td>0</td>\n",
       "      <td>0 days</td>\n",
       "      <td>1000</td>\n",
       "      <td>2012-10-31 20:00:00</td>\n",
       "      <td>0.003695</td>\n",
       "      <td>80.643311</td>\n",
       "      <td>0</td>\n",
       "      <td>98378.8125</td>\n",
       "      <td>274.447021</td>\n",
       "    </tr>\n",
       "    <tr>\n",
       "      <th>2012-10-31 21:00:00</th>\n",
       "      <td>0.000000</td>\n",
       "      <td>0.0</td>\n",
       "      <td>0</td>\n",
       "      <td>0 days</td>\n",
       "      <td>1000</td>\n",
       "      <td>2012-10-31 21:00:00</td>\n",
       "      <td>0.003589</td>\n",
       "      <td>79.518311</td>\n",
       "      <td>0</td>\n",
       "      <td>98330.5625</td>\n",
       "      <td>273.845947</td>\n",
       "    </tr>\n",
       "    <tr>\n",
       "      <th>2012-10-31 22:00:00</th>\n",
       "      <td>0.000000</td>\n",
       "      <td>0.0</td>\n",
       "      <td>0</td>\n",
       "      <td>0 days</td>\n",
       "      <td>1000</td>\n",
       "      <td>2012-10-31 22:00:00</td>\n",
       "      <td>0.003698</td>\n",
       "      <td>84.653244</td>\n",
       "      <td>0</td>\n",
       "      <td>98311.0625</td>\n",
       "      <td>273.381104</td>\n",
       "    </tr>\n",
       "    <tr>\n",
       "      <th>2012-10-31 23:00:00</th>\n",
       "      <td>0.000000</td>\n",
       "      <td>0.0</td>\n",
       "      <td>0</td>\n",
       "      <td>0 days</td>\n",
       "      <td>1000</td>\n",
       "      <td>2012-10-31 23:00:00</td>\n",
       "      <td>0.003659</td>\n",
       "      <td>84.473282</td>\n",
       "      <td>0</td>\n",
       "      <td>98280.7500</td>\n",
       "      <td>273.460938</td>\n",
       "    </tr>\n",
       "  </tbody>\n",
       "</table>\n",
       "<p>9702504 rows × 11 columns</p>\n",
       "</div>"
      ],
      "text/plain": [
       "                                             tcc  nr_nans  number   step  \\\n",
       "latitude longitude time                                                    \n",
       "30.0     -15.0     2012-10-01 00:00:00  0.000000      0.0       0 0 days   \n",
       "                   2012-10-01 01:00:00  0.000000      0.0       0 0 days   \n",
       "                   2012-10-01 02:00:00  0.125259      0.0       0 0 days   \n",
       "                   2012-10-01 03:00:00  0.333314      0.0       0 0 days   \n",
       "                   2012-10-01 04:00:00  0.539331      0.0       0 0 days   \n",
       "...                                          ...      ...     ...    ...   \n",
       "50.0      25.0     2012-10-31 19:00:00  0.000000      0.0       0 0 days   \n",
       "                   2012-10-31 20:00:00  0.000000      0.0       0 0 days   \n",
       "                   2012-10-31 21:00:00  0.000000      0.0       0 0 days   \n",
       "                   2012-10-31 22:00:00  0.000000      0.0       0 0 days   \n",
       "                   2012-10-31 23:00:00  0.000000      0.0       0 0 days   \n",
       "\n",
       "                                        isobaricInhPa          valid_time  \\\n",
       "latitude longitude time                                                     \n",
       "30.0     -15.0     2012-10-01 00:00:00           1000 2012-10-01 00:00:00   \n",
       "                   2012-10-01 01:00:00           1000 2012-10-01 01:00:00   \n",
       "                   2012-10-01 02:00:00           1000 2012-10-01 02:00:00   \n",
       "                   2012-10-01 03:00:00           1000 2012-10-01 03:00:00   \n",
       "                   2012-10-01 04:00:00           1000 2012-10-01 04:00:00   \n",
       "...                                               ...                 ...   \n",
       "50.0      25.0     2012-10-31 19:00:00           1000 2012-10-31 19:00:00   \n",
       "                   2012-10-31 20:00:00           1000 2012-10-31 20:00:00   \n",
       "                   2012-10-31 21:00:00           1000 2012-10-31 21:00:00   \n",
       "                   2012-10-31 22:00:00           1000 2012-10-31 22:00:00   \n",
       "                   2012-10-31 23:00:00           1000 2012-10-31 23:00:00   \n",
       "\n",
       "                                               q          r  surface  \\\n",
       "latitude longitude time                                                \n",
       "30.0     -15.0     2012-10-01 00:00:00  0.008644  56.684490        0   \n",
       "                   2012-10-01 01:00:00  0.008484  55.728996        0   \n",
       "                   2012-10-01 02:00:00  0.008302  54.818211        0   \n",
       "                   2012-10-01 03:00:00  0.008228  53.150269        0   \n",
       "                   2012-10-01 04:00:00  0.008069  50.865860        0   \n",
       "...                                          ...        ...      ...   \n",
       "50.0      25.0     2012-10-31 19:00:00  0.003783  81.039139        0   \n",
       "                   2012-10-31 20:00:00  0.003695  80.643311        0   \n",
       "                   2012-10-31 21:00:00  0.003589  79.518311        0   \n",
       "                   2012-10-31 22:00:00  0.003698  84.653244        0   \n",
       "                   2012-10-31 23:00:00  0.003659  84.473282        0   \n",
       "\n",
       "                                                 sp         t2m  \n",
       "latitude longitude time                                          \n",
       "30.0     -15.0     2012-10-01 00:00:00  102086.3750  295.789551  \n",
       "                   2012-10-01 01:00:00  102042.6875  295.666504  \n",
       "                   2012-10-01 02:00:00  101981.7500  295.635986  \n",
       "                   2012-10-01 03:00:00  101924.8750  295.770264  \n",
       "                   2012-10-01 04:00:00  101901.3125  296.014893  \n",
       "...                                             ...         ...  \n",
       "50.0      25.0     2012-10-31 19:00:00   98350.2500  275.062988  \n",
       "                   2012-10-31 20:00:00   98378.8125  274.447021  \n",
       "                   2012-10-31 21:00:00   98330.5625  273.845947  \n",
       "                   2012-10-31 22:00:00   98311.0625  273.381104  \n",
       "                   2012-10-31 23:00:00   98280.7500  273.460938  \n",
       "\n",
       "[9702504 rows x 11 columns]"
      ]
     },
     "execution_count": 7,
     "metadata": {},
     "output_type": "execute_result"
    }
   ],
   "source": [
    "df"
   ]
  },
  {
   "cell_type": "markdown",
   "metadata": {},
   "source": [
    "# Displaying data for one variable and one timestep"
   ]
  },
  {
   "cell_type": "code",
   "execution_count": 8,
   "metadata": {},
   "outputs": [],
   "source": [
    "var_name = 'tcc'\n",
    "time = '2012-10-01 00:00:00'\n",
    "subset_df = df[var_name].unstack()[time].unstack()\n",
    "\n",
    "y_ticks_labels = subset_df.index.values\n",
    "x_ticks_labels = subset_df.columns.values\n",
    "data = subset_df.values"
   ]
  },
  {
   "cell_type": "code",
   "execution_count": 9,
   "metadata": {},
   "outputs": [
    {
     "data": {
      "text/plain": [
       "array([30., 31., 32., 33., 34., 35., 36., 37., 38., 39., 40., 41., 42.,\n",
       "       43., 44., 45., 46., 47., 48., 49., 50.])"
      ]
     },
     "execution_count": 9,
     "metadata": {},
     "output_type": "execute_result"
    }
   ],
   "source": [
    "y_ticks_labels[0::4]"
   ]
  },
  {
   "cell_type": "code",
   "execution_count": 10,
   "metadata": {},
   "outputs": [],
   "source": [
    "import seaborn as sns\n",
    "import numpy as np \n",
    "import matplotlib as plt"
   ]
  },
  {
   "cell_type": "code",
   "execution_count": 13,
   "metadata": {},
   "outputs": [
    {
     "data": {
      "image/png": "[encoded data removed]",
      "text/plain": [
       "<Figure size 432x288 with 2 Axes>"
      ]
     },
     "metadata": {
      "needs_background": "light"
     },
     "output_type": "display_data"
    }
   ],
   "source": [
    "ax = sns.heatmap(np.flipud(data)) # flip data to make it look li\n",
    "ax.set_xticklabels(x_ticks_labels[0::7])\n",
    "ax.set_yticklabels(np.flip(y_ticks_labels[0::4]))\n",
    "ax.set_title(f'{var_name.upper()} at {time}');"
   ]
  }
 ],
 "metadata": {
  "kernelspec": {
   "display_name": "Python 3",
   "language": "python",
   "name": "python3"
  },
  "language_info": {
   "codemirror_mode": {
    "name": "ipython",
    "version": 3
   },
   "file_extension": ".py",
   "mimetype": "text/x-python",
   "name": "python",
   "nbconvert_exporter": "python",
   "pygments_lexer": "ipython3",
   "version": "3.7.6"
  }
 },
 "nbformat": 4,
 "nbformat_minor": 5
}
