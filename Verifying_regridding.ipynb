{
 "cells": [
  {
   "cell_type": "markdown",
   "metadata": {},
   "source": [
    "# Validating idexes and coordinates \n",
    "The detection of satelite pixels contributing to an ECC-pixel is a computationaly consuming task and one which will be identical for every image. To reduce the computation cost of the dataset generation the detection of pixels and the computation of the area contributing to the fraction was conputed once and stored in the files listed below\n",
    "       \n",
    "The dataset ECC has an idential grid as ERA5 due to the experiments this dataset was generated to conduct. The satelite imagery is made available in two file-formats, the netcdf, .nc-format is the only one providing coordinates."
   ]
  },
  {
   "cell_type": "markdown",
   "metadata": {},
   "source": [
    "├── regridding_info\n",
    "│       └── ERA5_grid_resample_includes_changes_to_indexes_from_30.0_35.0.json\n",
    "│       └── ERA5_grid_resample_includes_changes_to_indexes_from_35.0_40.0.json\n",
    "│       └── ERA5_grid_resample_includes_changes_to_indexes_from_40.0_45.0.json\n",
    "│       └── ERA5_grid_resample_includes_changes_to_indexes_from_45.0_50.0.json\n",
    "│       └── ERA5_grid_resample_includes_changes_to_indexes_from_50.0_55.0.json"
   ]
  },
  {
   "cell_type": "markdown",
   "metadata": {},
   "source": [
    "The data is categorized into centre pixels, up-, down-, left-, right- and corner boundary pixels. Subcategories are lists of the indices and area. "
   ]
  },
  {
   "cell_type": "markdown",
   "metadata": {},
   "source": [
    "# Reading the test .nc"
   ]
  },
  {
   "cell_type": "code",
   "execution_count": 6,
   "metadata": {},
   "outputs": [],
   "source": [
    "import glob \n",
    "import xarray as xr\n",
    "\n",
    "nc_fil = glob.glob('../ECC_DATA/Examples/W_XX-EUMETSAT-Darmstadt,SING+LEV+SAT,MSG2+CLM_C_EUMG_20121001120000_new_coords.nc')[0]\n",
    "cloudMask = xr.open_dataset(nc_fil)"
   ]
  },
  {
   "cell_type": "markdown",
   "metadata": {},
   "source": [
    "# Testing the regridding files"
   ]
  },
  {
   "cell_type": "code",
   "execution_count": 7,
   "metadata": {},
   "outputs": [],
   "source": [
    "import json\n",
    "import numpy as np"
   ]
  },
  {
   "cell_type": "code",
   "execution_count": 8,
   "metadata": {},
   "outputs": [],
   "source": [
    "with open('./regridding_info/ERA5_grid_resample_includes_changes_to_indexes_from_30.0_35.0.json', 'r') as f:\n",
    "    data_grid = json.load(f)"
   ]
  },
  {
   "cell_type": "code",
   "execution_count": 9,
   "metadata": {},
   "outputs": [],
   "source": [
    "centre_idx = data_grid['30.0']['-15.0']['centre']['index']"
   ]
  },
  {
   "cell_type": "code",
   "execution_count": 10,
   "metadata": {},
   "outputs": [],
   "source": [
    "latitudes = np.fliplr(cloudMask.latitude.values).flatten()\n",
    "longitudes = np.fliplr(cloudMask.longitude.values).flatten()"
   ]
  },
  {
   "cell_type": "code",
   "execution_count": 11,
   "metadata": {},
   "outputs": [
    {
     "data": {
      "text/plain": [
       "array([29.915749, 29.914845, 29.913942, 29.913042, 29.912146, 29.91125 ,\n",
       "       29.949917, 29.94901 , 29.948107, 29.947206, 29.946306, 29.94541 ,\n",
       "       29.984104, 29.983196, 29.982292, 29.981388, 29.980488, 29.97959 ,\n",
       "       30.01831 , 30.0174  , 30.016493, 30.015589, 30.014687, 30.013786,\n",
       "       30.012888, 30.052534, 30.051622, 30.050714, 30.049807, 30.048903,\n",
       "       30.048   , 30.047102, 30.085863, 30.084953, 30.084045, 30.08314 ,\n",
       "       30.082235, 30.081333], dtype=float32)"
      ]
     },
     "execution_count": 11,
     "metadata": {},
     "output_type": "execute_result"
    }
   ],
   "source": [
    "latitudes[centre_idx]"
   ]
  },
  {
   "cell_type": "code",
   "execution_count": 12,
   "metadata": {},
   "outputs": [
    {
     "data": {
      "text/plain": [
       "array([15.045217 , 15.011555 , 14.977902 , 14.944259 , 14.910624 ,\n",
       "       14.876998 , 15.051306 , 15.01763  , 14.983962 , 14.950303 ,\n",
       "       14.916654 , 14.883013 , 15.05741  , 15.023719 , 14.990036 ,\n",
       "       14.956363 , 14.922698 , 14.889042 , 15.063528 , 15.029821 ,\n",
       "       14.996124 , 14.962436 , 14.928756 , 14.895085 , 14.8614235,\n",
       "       15.06966  , 15.035938 , 15.002226 , 14.968522 , 14.934828 ,\n",
       "       14.901142 , 14.867465 , 15.042069 , 15.008342 , 14.974623 ,\n",
       "       14.940913 , 14.907213 , 14.873521 ], dtype=float32)"
      ]
     },
     "execution_count": 12,
     "metadata": {},
     "output_type": "execute_result"
    }
   ],
   "source": [
    "longitudes[centre_idx]"
   ]
  },
  {
   "cell_type": "code",
   "execution_count": null,
   "metadata": {},
   "outputs": [],
   "source": []
  }
 ],
 "metadata": {
  "kernelspec": {
   "display_name": "Python 3",
   "language": "python",
   "name": "python3"
  },
  "language_info": {
   "codemirror_mode": {
    "name": "ipython",
    "version": 3
   },
   "file_extension": ".py",
   "mimetype": "text/x-python",
   "name": "python",
   "nbconvert_exporter": "python",
   "pygments_lexer": "ipython3",
   "version": "3.7.6"
  }
 },
 "nbformat": 4,
 "nbformat_minor": 4
}
